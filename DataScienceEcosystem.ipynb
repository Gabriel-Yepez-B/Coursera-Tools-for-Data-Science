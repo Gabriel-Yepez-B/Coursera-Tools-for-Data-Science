{
 "cells": [
  {
   "cell_type": "markdown",
   "id": "739aeb98-d270-403f-ae57-fdc1a9f5ed70",
   "metadata": {},
   "source": [
    "# Data Science Tools and Ecosystem"
   ]
  },
  {
   "cell_type": "markdown",
   "id": "f51a276a-9aa8-4dab-b1ca-a5922d1a0945",
   "metadata": {},
   "source": [
    "# **Objectives:**\n",
    "\n",
    "- List popular languages that data scientists use:\n",
    "- Some of the commonly used libraries used by Data Scientists include:\n",
    "- Below are a few examples of evaluating arithmetic expressions in Python\n",
    "\n",
    "## Author: \n",
    "Gabriel Yepez"
   ]
  },
  {
   "cell_type": "markdown",
   "id": "57a5e49a-3cc7-472f-a2ff-db5c236f3043",
   "metadata": {},
   "source": [
    "In this notebook, Data Science Tools and Ecosystem are summarized."
   ]
  },
  {
   "cell_type": "markdown",
   "id": "c7451000-3d81-4f74-8d2c-e2715b0a54e7",
   "metadata": {},
   "source": [
    "Some of the popular languages that Data Scientists use are:"
   ]
  },
  {
   "cell_type": "code",
   "execution_count": 4,
   "id": "0f9d81ab-b3ac-4684-bc0e-74b95bb77eab",
   "metadata": {
    "tags": []
   },
   "outputs": [
    {
     "name": "stdout",
     "output_type": "stream",
     "text": [
      "['Python', 'R', 'Scala']\n"
     ]
    }
   ],
   "source": [
    "list_arr = [\"Scala\", \"Python\", \"R\"]\n",
    "list_arr.sort()\n",
    "print(list_arr)"
   ]
  },
  {
   "cell_type": "markdown",
   "id": "02e21ada-f504-416d-a59b-71bbe53f8916",
   "metadata": {},
   "source": [
    " Some of the commonly used libraries used by Data Scientists include:"
   ]
  },
  {
   "cell_type": "code",
   "execution_count": 5,
   "id": "f33c155a-df1c-46f8-9aeb-b876abfb015d",
   "metadata": {
    "tags": []
   },
   "outputs": [
    {
     "name": "stdout",
     "output_type": "stream",
     "text": [
      "['Matplotlib', 'Pandas', 'Pytorch', 'Seaborn', 'Sklearn', 'Tensorflow']\n"
     ]
    }
   ],
   "source": [
    "list2_arr = [\"Pandas\", \"Tensorflow\", \"Pytorch\", \"Sklearn\", \"Matplotlib\", \"Seaborn\"]\n",
    "list2_arr.sort()\n",
    "print(list2_arr)"
   ]
  },
  {
   "cell_type": "markdown",
   "id": "7f2ca5d8-68f6-4529-89dc-1d598ff1062c",
   "metadata": {},
   "source": [
    "| Data Science Tools    |\n",
    "| -------- |\n",
    "| Google Colab  |\n",
    "| Jupyther Lab |\n",
    "| RStudio|"
   ]
  },
  {
   "cell_type": "markdown",
   "id": "ac566b28-d3c7-46e8-a6eb-d81dce29e896",
   "metadata": {},
   "source": [
    "### Below are a few examples of evaluating arithmetic expressions in Python"
   ]
  },
  {
   "cell_type": "code",
   "execution_count": 8,
   "id": "028960d6-be3e-4e0b-90e0-8519a3b5501a",
   "metadata": {
    "tags": []
   },
   "outputs": [
    {
     "data": {
      "text/plain": [
       "17"
      ]
     },
     "execution_count": 8,
     "metadata": {},
     "output_type": "execute_result"
    }
   ],
   "source": [
    "# This a simple arithmetic expression to mutiply then add integers\n",
    "eval(\"(3*4)+5\")"
   ]
  },
  {
   "cell_type": "code",
   "execution_count": 9,
   "id": "7ab847fe-c6d2-4bbc-bf88-781beda2cc95",
   "metadata": {
    "tags": []
   },
   "outputs": [
    {
     "data": {
      "text/plain": [
       "3.3333333333333335"
      ]
     },
     "execution_count": 9,
     "metadata": {},
     "output_type": "execute_result"
    }
   ],
   "source": [
    "# This will convert 200 minutes to hours by diving by 60.\n",
    "eval(\"200/60\")"
   ]
  },
  {
   "cell_type": "code",
   "execution_count": null,
   "id": "7de0bf90-bc0e-4a25-a984-06c522dcfe3e",
   "metadata": {},
   "outputs": [],
   "source": []
  }
 ],
 "metadata": {
  "kernelspec": {
   "display_name": "Python",
   "language": "python",
   "name": "conda-env-python-py"
  },
  "language_info": {
   "codemirror_mode": {
    "name": "ipython",
    "version": 3
   },
   "file_extension": ".py",
   "mimetype": "text/x-python",
   "name": "python",
   "nbconvert_exporter": "python",
   "pygments_lexer": "ipython3",
   "version": "3.7.12"
  }
 },
 "nbformat": 4,
 "nbformat_minor": 5
}
